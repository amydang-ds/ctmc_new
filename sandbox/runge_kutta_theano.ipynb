{
 "cells": [
  {
   "cell_type": "code",
   "execution_count": 1,
   "metadata": {},
   "outputs": [
    {
     "ename": "NameError",
     "evalue": "name 'xrange' is not defined",
     "output_type": "error",
     "traceback": [
      "\u001b[0;31m---------------------------------------------------------------------------\u001b[0m",
      "\u001b[0;31mNameError\u001b[0m                                 Traceback (most recent call last)",
      "\u001b[0;32m<ipython-input-1-18f58f56c671>\u001b[0m in \u001b[0;36m<module>\u001b[0;34m()\u001b[0m\n\u001b[1;32m     49\u001b[0m         \u001b[0mT\u001b[0m \u001b[0;34m=\u001b[0m \u001b[0mnp\u001b[0m\u001b[0;34m.\u001b[0m\u001b[0mzeros\u001b[0m\u001b[0;34m(\u001b[0m\u001b[0mn_steps\u001b[0m\u001b[0;34m)\u001b[0m\u001b[0;34m\u001b[0m\u001b[0m\n\u001b[1;32m     50\u001b[0m         \u001b[0mY\u001b[0m \u001b[0;34m=\u001b[0m \u001b[0mnp\u001b[0m\u001b[0;34m.\u001b[0m\u001b[0mzeros\u001b[0m\u001b[0;34m(\u001b[0m\u001b[0;34m(\u001b[0m\u001b[0mn_steps\u001b[0m\u001b[0;34m,\u001b[0m\u001b[0mlen\u001b[0m\u001b[0;34m(\u001b[0m\u001b[0my\u001b[0m\u001b[0;34m)\u001b[0m\u001b[0;34m)\u001b[0m\u001b[0;34m)\u001b[0m\u001b[0;34m\u001b[0m\u001b[0m\n\u001b[0;32m---> 51\u001b[0;31m         \u001b[0;32mfor\u001b[0m \u001b[0mi\u001b[0m \u001b[0;32min\u001b[0m \u001b[0mxrange\u001b[0m\u001b[0;34m(\u001b[0m\u001b[0mn_steps\u001b[0m\u001b[0;34m)\u001b[0m\u001b[0;34m:\u001b[0m\u001b[0;34m\u001b[0m\u001b[0m\n\u001b[0m\u001b[1;32m     52\u001b[0m                 \u001b[0mt\u001b[0m \u001b[0;34m=\u001b[0m \u001b[0mi\u001b[0m \u001b[0;34m*\u001b[0m \u001b[0mstep\u001b[0m\u001b[0;34m\u001b[0m\u001b[0m\n\u001b[1;32m     53\u001b[0m                 \u001b[0my\u001b[0m \u001b[0;34m=\u001b[0m \u001b[0mvdpo_rk4_step_fn\u001b[0m\u001b[0;34m(\u001b[0m\u001b[0mt\u001b[0m\u001b[0;34m,\u001b[0m\u001b[0my\u001b[0m\u001b[0;34m,\u001b[0m\u001b[0mstep\u001b[0m\u001b[0;34m,\u001b[0m\u001b[0;36m10\u001b[0m\u001b[0;34m)\u001b[0m\u001b[0;34m\u001b[0m\u001b[0m\n",
      "\u001b[0;31mNameError\u001b[0m: name 'xrange' is not defined"
     ]
    }
   ],
   "source": [
    "import numpy as np\n",
    "import theano.tensor as T\n",
    "from theano import function\n",
    "from theano import Param\n",
    "from theano import pp\n",
    "import matplotlib.pyplot as plt\n",
    "\n",
    "def vdpo_exp(t,y,mu):\n",
    "\t#vdpo in theano\n",
    "\ty1 = y[1]\n",
    "\ty2 = mu * (1-y[0]**2) * y[1] - y[0]\n",
    "\treturn [y1, y2]\n",
    "\n",
    "def rk4_step_exp(t0, y0, h, dydt_exp, *args):\n",
    "\thalf_h = h/2\n",
    "\n",
    "\tk1 = h * dydt_exp(t0, y0, *args)\n",
    "\n",
    "\tt2 = t0 + half_h\n",
    "\ty2 = y0 + (k1/2)\n",
    "\tk2 = h * dydt_exp(t2, y2, *args)\n",
    "\n",
    "\ty3 = y0 + (k2/2)\n",
    "\tk3 = h * dydt_exp(t2, y3, *args)\n",
    "\n",
    "\tt4 = t0 + h\n",
    "\ty4 = y0 + k3\n",
    "\tk4 = h * dydt_exp(t4, y4, *args)\n",
    "\n",
    "\tyi = y0 + (k1 + 2*k2 + 2*k3 + k4)/6\n",
    "\treturn yi\n",
    "\n",
    "if __name__ == '__main__':\n",
    "\tmu = T.dscalar('mu') # vdpo param\n",
    "\tt0 = T.dscalar('t0') # time at integration step\n",
    "\ty0 = T.dvector('y0') # state at integration step\n",
    "\th = T.dscalar('h') # fixed time step\n",
    "\trk4_step = rk4_step_exp(t0, y0, h, vdpo_exp, mu)\n",
    "\n",
    "\t# make theano function, on_unused_input is required as the vdpo does not use time\n",
    "\tvdpo_rk4_step_fn = function([t0, y0, h, mu], rk4_step, on_unused_input='ignore')\n",
    "\n",
    "\t# integrate a certain amount of time\n",
    "\ty = [0.1,0.]\n",
    "\ttime = 50\n",
    "\tstep = 0.001\n",
    "\tn_steps = int(time / step)\n",
    "\tt = 0\n",
    "\tT = np.zeros(n_steps)\n",
    "\tY = np.zeros((n_steps,len(y)))\n",
    "\tfor i in xrange(n_steps):\n",
    "\t\tt = i * step\n",
    "\t\ty = vdpo_rk4_step_fn(t,y,step,10)\n",
    "\t\tT[i] = t\n",
    "\t\tY[i, :] = y\n",
    "\n",
    "\t# plot the result\n",
    "\tfig1 = plt.figure()\n",
    "\tplt.plot(T, Y[:,0])\n",
    "plt.show()"
   ]
  },
  {
   "cell_type": "code",
   "execution_count": null,
   "metadata": {
    "collapsed": true
   },
   "outputs": [],
   "source": []
  }
 ],
 "metadata": {
  "kernelspec": {
   "display_name": "Python 3",
   "language": "python",
   "name": "python3"
  },
  "language_info": {
   "codemirror_mode": {
    "name": "ipython",
    "version": 3
   },
   "file_extension": ".py",
   "mimetype": "text/x-python",
   "name": "python",
   "nbconvert_exporter": "python",
   "pygments_lexer": "ipython3",
   "version": "3.6.2"
  }
 },
 "nbformat": 4,
 "nbformat_minor": 2
}
