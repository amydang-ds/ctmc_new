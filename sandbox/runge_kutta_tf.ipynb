{
 "cells": [
  {
   "cell_type": "code",
   "execution_count": 2,
   "metadata": {},
   "outputs": [],
   "source": [
    "import numpy as np\n",
    "import tensorflow as tf\n",
    "import math\n",
    "\n",
    "from tensorflow.contrib.integrate.python.ops import odes\n",
    "from tensorflow.python.framework import constant_op\n",
    "from tensorflow.python.framework import dtypes\n",
    "from tensorflow.python.framework import errors_impl\n",
    "from tensorflow.python.framework import tensor_shape\n",
    "from tensorflow.python.ops import array_ops\n",
    "from tensorflow.python.ops import math_ops\n",
    "from tensorflow.python.platform import test"
   ]
  },
  {
   "cell_type": "code",
   "execution_count": 2,
   "metadata": {
    "collapsed": true
   },
   "outputs": [],
   "source": [
    "NUM_CORES = 7  # Choose how many cores to use.\n",
    "sess = tf.Session(\n",
    "    config=tf.ConfigProto(inter_op_parallelism_threads=NUM_CORES,\n",
    "                   intra_op_parallelism_threads=NUM_CORES))"
   ]
  },
  {
   "cell_type": "code",
   "execution_count": 16,
   "metadata": {
    "collapsed": true
   },
   "outputs": [],
   "source": [
    "# Test odeint by an exponential function:\n",
    "#   dy / dt = y,  y(0) = 1.0.\n",
    "# Its analytical solution is y = exp(t).\n",
    "func = lambda y, t: y\n",
    "y0 = constant_op.constant(1.0, dtype=dtypes.float64)\n",
    "t = np.linspace(0.0, 1.0, 11)\n",
    "y_solved = odes.odeint(func, y0, t)\n",
    "\n",
    "with tf.Session() as sess:\n",
    "    y_solved = sess.run(y_solved)\n",
    "y_true = np.exp(t)"
   ]
  },
  {
   "cell_type": "code",
   "execution_count": 19,
   "metadata": {
    "collapsed": true
   },
   "outputs": [],
   "source": [
    "# Test a complex, linear ODE:\n",
    "#   dy / dt = k * y,  y(0) = 1.0.\n",
    "# Its analytical solution is y = exp(k * t).\n",
    "k = 1j - 0.1\n",
    "func = lambda y, t: k * y\n",
    "t = np.linspace(0.0, 1.0, 11)\n",
    "y_solved = odes.odeint(func, 1.0 + 0.0j, t)\n",
    "with tf.Session() as sess:\n",
    "    y_solved = sess.run(y_solved)\n",
    "y_true = np.exp(k * t)"
   ]
  },
  {
   "cell_type": "code",
   "execution_count": null,
   "metadata": {
    "collapsed": true
   },
   "outputs": [],
   "source": [
    "# Solve the 2D linear differential equation:\n",
    "#   dy1 / dt = 3.0 * y1 + 4.0 * y2,\n",
    "#   dy2 / dt = -4.0 * y1 + 3.0 * y2,\n",
    "#   y1(0) = 0.0,\n",
    "#   y2(0) = 1.0.\n",
    "# Its analytical solution is\n",
    "#   y1 = sin(4.0 * t) * exp(3.0 * t),\n",
    "#   y2 = cos(4.0 * t) * exp(3.0 * t).\n",
    "matrix = constant_op.constant(\n",
    "[[3.0, 4.0], [-4.0, 3.0]], dtype=dtypes.float64)\n",
    "func = lambda y, t: math_ops.matmul(matrix, y)\n",
    "\n",
    "y0 = constant_op.constant([[0.0], [1.0]], dtype=dtypes.float64)\n",
    "t = np.linspace(0.0, 2.0, 10000000)\n",
    "\n",
    "y_solved = odes.odeint(func, y0, t)\n",
    "\n",
    "y_solved = sess.run(y_solved)\n",
    "\n",
    "y_true = np.zeros((len(t), 2, 1))\n",
    "y_true[:, 0, 0] = np.sin(4.0 * t) * np.exp(3.0 * t)\n",
    "y_true[:, 1, 0] = np.cos(4.0 * t) * np.exp(3.0 * t)"
   ]
  },
  {
   "cell_type": "code",
   "execution_count": 8,
   "metadata": {},
   "outputs": [
    {
     "name": "stdout",
     "output_type": "stream",
     "text": [
      "[ 0.          0.11111111  0.22222222  0.33333333  0.44444444  0.55555556\n",
      "  0.66666667  0.77777778  0.88888889  1.        ]\n",
      "[  3.           3.3758625    3.89175666   4.56370441   5.41428888\n",
      "   6.47332773   7.77885504   9.3784398   11.33088305  13.70835194]\n",
      "[  3.           4.3428625    5.80991801   7.46456912   9.37523182\n",
      "  11.61834286  14.28156234  17.4673145   21.2968176   25.91476706]\n"
     ]
    }
   ],
   "source": [
    "h = 0.1\n",
    "n = int(1.0/0.1)\n",
    "x = np.linspace(0, 1.0, n)\n",
    "y = np.zeros(n)\n",
    "z = np.zeros(n)\n",
    "\n",
    "y[0] = 3\n",
    "z[0] = 3\n",
    "\n",
    "# F_xy = @(t,r) 3.*exp(-t)-0.4*r\n",
    "F_xyz = lambda x, y, z: z\n",
    "G_xyz = lambda x, y, z: 6 * y - z\n",
    "\n",
    "for i in range(len(x) - 1):\n",
    "    k1 = F_xyz(x[i], y[i], z[i])\n",
    "    L1 = G_xyz(x[i], y[i], z[i])\n",
    "    k2 = F_xyz(x[i] + .5 * h, y[i] + .5 * h * k1, z[i] + .5 * h * L1)\n",
    "    L2 = G_xyz(x[i] + .5 * h, y[i] + .5 * h * k1, z[i] + .5 * h * L1)\n",
    "    k3 = F_xyz(x[i] + .5 * h, y[i] + .5 * h * k2, z[i] + .5 * h * L2)\n",
    "    L3 = G_xyz(x[i] + .5 * h, y[i] + .5 * h * k2, z[i] + .5 * h * L2)\n",
    "    k4 = F_xyz(x[i] + h, y[i] + h * k3, z[i] + h * L3)\n",
    "    L4 = F_xyz(x[i] + h, y[i] + h * k3, z[i] + h * L3)\n",
    "    \n",
    "    y[i + 1] = y[i] + (1/6) * (k1 + 2 * k2 + 2 * k3 + k4) * h\n",
    "    z[i + 1] = z[i] + (1/6) * (L1 + 2 * L2 + 2 * L3 + L4) * h\n",
    "\n",
    "print(x)\n",
    "print(y)\n",
    "print(z)"
   ]
  },
  {
   "cell_type": "code",
   "execution_count": null,
   "metadata": {
    "collapsed": true
   },
   "outputs": [],
   "source": []
  }
 ],
 "metadata": {
  "kernelspec": {
   "display_name": "Python 3",
   "language": "python",
   "name": "python3"
  },
  "language_info": {
   "codemirror_mode": {
    "name": "ipython",
    "version": 3
   },
   "file_extension": ".py",
   "mimetype": "text/x-python",
   "name": "python",
   "nbconvert_exporter": "python",
   "pygments_lexer": "ipython3",
   "version": "3.6.2"
  }
 },
 "nbformat": 4,
 "nbformat_minor": 2
}
